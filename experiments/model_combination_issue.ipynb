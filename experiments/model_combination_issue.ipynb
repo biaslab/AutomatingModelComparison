{
 "cells": [
  {
   "cell_type": "code",
   "execution_count": 8,
   "metadata": {},
   "outputs": [],
   "source": [
    "using RxInfer, LinearAlgebra"
   ]
  },
  {
   "cell_type": "code",
   "execution_count": 19,
   "metadata": {},
   "outputs": [],
   "source": [
    "@rule Categorical(:out, Marginalisation) (m_p::Dirichlet,) = begin\n",
    "    return Categorical(normalize(mean(m_p), 1))\n",
    "end\n",
    "@rule Categorical(:p, Marginalisation) (m_out::Categorical, q_out::PointMass) = begin\n",
    "    return Dirichlet(probvec(q_out) .+ one(eltype(probvec(q_out))))\n",
    "end"
   ]
  },
  {
   "cell_type": "code",
   "execution_count": 15,
   "metadata": {},
   "outputs": [
    {
     "data": {
      "text/latex": [
       "No documentation found.\n",
       "\n",
       "\\texttt{ReactiveMP.@call\\_rule} is a macro.\n",
       "\n",
       "\\begin{verbatim}\n",
       "# 1 method for macro \"@call_rule\":\n",
       "[1] var\"@call_rule\"(__source__::LineNumberNode, __module__::Module, fform, args) in ReactiveMP at d:\\OneDrive - TU Eindhoven\\phd\\Projects\\Packages\\ReactiveMP.jl\\src\\rule.jl:406\n",
       "\\end{verbatim}\n"
      ],
      "text/markdown": [
       "No documentation found.\n",
       "\n",
       "`ReactiveMP.@call_rule` is a macro.\n",
       "\n",
       "```\n",
       "# 1 method for macro \"@call_rule\":\n",
       "[1] var\"@call_rule\"(__source__::LineNumberNode, __module__::Module, fform, args) in ReactiveMP at d:\\OneDrive - TU Eindhoven\\phd\\Projects\\Packages\\ReactiveMP.jl\\src\\rule.jl:406\n",
       "```\n"
      ],
      "text/plain": [
       "  No documentation found.\n",
       "\n",
       "  \u001b[36mReactiveMP.@call_rule\u001b[39m is a macro.\n",
       "\n",
       "\u001b[36m  # 1 method for macro \"@call_rule\":\u001b[39m\n",
       "\u001b[36m  [1] var\"@call_rule\"(__source__::LineNumberNode, __module__::Module, fform, args) in ReactiveMP at d:\\OneDrive - TU Eindhoven\\phd\\Projects\\Packages\\ReactiveMP.jl\\src\\rule.jl:406\u001b[39m"
      ]
     },
     "execution_count": 15,
     "metadata": {},
     "output_type": "execute_result"
    }
   ],
   "source": [
    "?@call_rule"
   ]
  },
  {
   "cell_type": "code",
   "execution_count": 10,
   "metadata": {},
   "outputs": [],
   "source": [
    "struct EnforceMarginalFunctionalDependency <: ReactiveMP.AbstractNodeFunctionalDependenciesPipeline\n",
    "    edge :: Symbol\n",
    "end\n",
    "\n",
    "function ReactiveMP.message_dependencies(::EnforceMarginalFunctionalDependency, nodeinterfaces, nodelocalmarginals, varcluster, cindex, iindex)\n",
    "    return ReactiveMP.message_dependencies(ReactiveMP.DefaultFunctionalDependencies(), nodeinterfaces, nodelocalmarginals, varcluster, cindex, iindex)\n",
    "end\n",
    "\n",
    "function ReactiveMP.marginal_dependencies(enforce::EnforceMarginalFunctionalDependency, nodeinterfaces, nodelocalmarginals, varcluster, cindex, iindex)\n",
    "    default = ReactiveMP.marginal_dependencies(ReactiveMP.DefaultFunctionalDependencies(), nodeinterfaces, nodelocalmarginals, varcluster, cindex, iindex)\n",
    "    index   = ReactiveMP.findnext(i -> name(i) === enforce.edge, nodeinterfaces, 1)\n",
    "    if index === iindex \n",
    "        return default\n",
    "    end\n",
    "    vmarginal = ReactiveMP.getmarginal(ReactiveMP.connectedvar(nodeinterfaces[index]), IncludeAll())\n",
    "    loc = ReactiveMP.FactorNodeLocalMarginal(-1, index, enforce.edge)\n",
    "    ReactiveMP.setstream!(loc, vmarginal)\n",
    "    # Find insertion position (probably might be implemented more efficiently)\n",
    "    insertafter = sum(first(el) < iindex ? 1 : 0 for el in default; init = 0)\n",
    "    return ReactiveMP.TupleTools.insertafter(default, insertafter, (loc, ))\n",
    "end"
   ]
  },
  {
   "cell_type": "code",
   "execution_count": 11,
   "metadata": {},
   "outputs": [],
   "source": [
    "function RxInfer.default_point_mass_form_constraint_optimizer(::Type{Univariate}, ::Type{Discrete}, constraint::RxInfer.PointMassFormConstraint, distribution)\n",
    "\n",
    "    # fetch probvec\n",
    "    p = probvec(distribution)\n",
    "\n",
    "    # create new probvec\n",
    "    p_new = zeros(length(p))\n",
    "    p_new[argmax(p)] = 1\n",
    "\n",
    "    return PointMass(p_new)\n",
    "end"
   ]
  },
  {
   "cell_type": "code",
   "execution_count": 12,
   "metadata": {},
   "outputs": [],
   "source": [
    "@model function model_issue()\n",
    "    y = datavar(Vector{Float64})\n",
    "\n",
    "    α ~ Dirichlet(0.01 .* ones(3))\n",
    "    z_old ~ Categorical(α) where { pipeline = EnforceMarginalFunctionalDependency(:out) }\n",
    "    z_new ~ Transition(z_old, diagm(ones(3))) where { pipeline = EnforceMarginalFunctionalDependency(:in) }\n",
    "    y ~ Transition(z_new, diagm(ones(3)))\n",
    "\n",
    "    return y, z_new, z_old, α\n",
    "\n",
    "end"
   ]
  },
  {
   "cell_type": "code",
   "execution_count": 13,
   "metadata": {},
   "outputs": [
    {
     "data": {
      "text/plain": [
       "constraints_issue (generic function with 1 method)"
      ]
     },
     "execution_count": 13,
     "metadata": {},
     "output_type": "execute_result"
    }
   ],
   "source": [
    "@constraints function constraints_issue()\n",
    "    q(z_old) :: PointMass\n",
    "end"
   ]
  },
  {
   "cell_type": "code",
   "execution_count": 20,
   "metadata": {},
   "outputs": [
    {
     "data": {
      "text/plain": [
       "Inference results:\n",
       "  Posteriors       | available for (α)\n"
      ]
     },
     "execution_count": 20,
     "metadata": {},
     "output_type": "execute_result"
    }
   ],
   "source": [
    "results_combination = inference(\n",
    "    model = model_issue(), \n",
    "    data  = ( y = [1.0, 0.0, 0.0], ),\n",
    "    constraints = constraints_issue(),\n",
    "    returnvars = ( α=KeepLast(), ),\n",
    ")"
   ]
  },
  {
   "cell_type": "code",
   "execution_count": 21,
   "metadata": {},
   "outputs": [
    {
     "data": {
      "text/plain": [
       "Marginal(Dirichlet{Float64, Vector{Float64}, Float64}(alpha=[1.0099999999999998, 0.010000000000000009, 0.010000000000000009]))"
      ]
     },
     "execution_count": 21,
     "metadata": {},
     "output_type": "execute_result"
    }
   ],
   "source": [
    "results_combination.posteriors[:α]"
   ]
  },
  {
   "cell_type": "code",
   "execution_count": null,
   "metadata": {},
   "outputs": [],
   "source": []
  }
 ],
 "metadata": {
  "kernelspec": {
   "display_name": "Julia 1.8.1",
   "language": "julia",
   "name": "julia-1.8"
  },
  "language_info": {
   "file_extension": ".jl",
   "mimetype": "application/julia",
   "name": "julia",
   "version": "1.8.1"
  },
  "orig_nbformat": 4,
  "vscode": {
   "interpreter": {
    "hash": "2a8dfe095fce2b5e88c64a2c3ee084c8e0e0d70b23e7b95b1cfb538be294c5c8"
   }
  }
 },
 "nbformat": 4,
 "nbformat_minor": 2
}
